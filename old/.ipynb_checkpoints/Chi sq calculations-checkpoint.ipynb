{
 "cells": [
  {
   "cell_type": "code",
   "execution_count": 1,
   "id": "d28ffc0f",
   "metadata": {},
   "outputs": [],
   "source": [
    "import numpy as np\n",
    "import pandas as pd"
   ]
  },
  {
   "cell_type": "markdown",
   "id": "d17d06db",
   "metadata": {},
   "source": [
    "# EM_CdTe_Calibration_Curve_weighted"
   ]
  },
  {
   "cell_type": "code",
   "execution_count": 19,
   "id": "8818587f",
   "metadata": {},
   "outputs": [],
   "source": [
    "fit = pd.read_csv(r'cCurves\\EM_CdTe_Calibration_Curve_weighted\\EM_CdTe_Calibration_Curve_weighted.csv')\n",
    "points = pd.read_csv(r'cCurves\\EM_CdTe_Calibration_Curve_weighted\\EM_CdTe_Calibration_Curve_weighted_points.csv')"
   ]
  },
  {
   "cell_type": "code",
   "execution_count": 20,
   "id": "d184d633",
   "metadata": {},
   "outputs": [
    {
     "data": {
      "text/html": [
       "<div>\n",
       "<style scoped>\n",
       "    .dataframe tbody tr th:only-of-type {\n",
       "        vertical-align: middle;\n",
       "    }\n",
       "\n",
       "    .dataframe tbody tr th {\n",
       "        vertical-align: top;\n",
       "    }\n",
       "\n",
       "    .dataframe thead th {\n",
       "        text-align: right;\n",
       "    }\n",
       "</style>\n",
       "<table border=\"1\" class=\"dataframe\">\n",
       "  <thead>\n",
       "    <tr style=\"text-align: right;\">\n",
       "      <th></th>\n",
       "      <th>m</th>\n",
       "      <th>b</th>\n",
       "      <th>mErr</th>\n",
       "      <th>bErr</th>\n",
       "      <th>r-squared</th>\n",
       "    </tr>\n",
       "  </thead>\n",
       "  <tbody>\n",
       "    <tr>\n",
       "      <th>0</th>\n",
       "      <td>0.042195</td>\n",
       "      <td>-0.086403</td>\n",
       "      <td>2.308427e-07</td>\n",
       "      <td>0.000152</td>\n",
       "      <td>0.999966</td>\n",
       "    </tr>\n",
       "  </tbody>\n",
       "</table>\n",
       "</div>"
      ],
      "text/plain": [
       "          m         b          mErr      bErr  r-squared\n",
       "0  0.042195 -0.086403  2.308427e-07  0.000152   0.999966"
      ]
     },
     "execution_count": 20,
     "metadata": {},
     "output_type": "execute_result"
    }
   ],
   "source": [
    "fit.head()"
   ]
  },
  {
   "cell_type": "code",
   "execution_count": 21,
   "id": "50847c31",
   "metadata": {},
   "outputs": [
    {
     "data": {
      "text/html": [
       "<div>\n",
       "<style scoped>\n",
       "    .dataframe tbody tr th:only-of-type {\n",
       "        vertical-align: middle;\n",
       "    }\n",
       "\n",
       "    .dataframe tbody tr th {\n",
       "        vertical-align: top;\n",
       "    }\n",
       "\n",
       "    .dataframe thead th {\n",
       "        text-align: right;\n",
       "    }\n",
       "</style>\n",
       "<table border=\"1\" class=\"dataframe\">\n",
       "  <thead>\n",
       "    <tr style=\"text-align: right;\">\n",
       "      <th></th>\n",
       "      <th>mu</th>\n",
       "      <th>E</th>\n",
       "      <th>sigma</th>\n",
       "    </tr>\n",
       "  </thead>\n",
       "  <tbody>\n",
       "    <tr>\n",
       "      <th>0</th>\n",
       "      <td>333.266261</td>\n",
       "      <td>13.9460</td>\n",
       "      <td>0.000275</td>\n",
       "    </tr>\n",
       "    <tr>\n",
       "      <th>1</th>\n",
       "      <td>404.456571</td>\n",
       "      <td>16.8160</td>\n",
       "      <td>0.000667</td>\n",
       "    </tr>\n",
       "    <tr>\n",
       "      <th>2</th>\n",
       "      <td>424.031817</td>\n",
       "      <td>17.7510</td>\n",
       "      <td>0.000236</td>\n",
       "    </tr>\n",
       "    <tr>\n",
       "      <th>3</th>\n",
       "      <td>495.861716</td>\n",
       "      <td>20.7840</td>\n",
       "      <td>0.000480</td>\n",
       "    </tr>\n",
       "    <tr>\n",
       "      <th>4</th>\n",
       "      <td>626.451008</td>\n",
       "      <td>26.3448</td>\n",
       "      <td>0.000323</td>\n",
       "    </tr>\n",
       "  </tbody>\n",
       "</table>\n",
       "</div>"
      ],
      "text/plain": [
       "           mu        E     sigma\n",
       "0  333.266261  13.9460  0.000275\n",
       "1  404.456571  16.8160  0.000667\n",
       "2  424.031817  17.7510  0.000236\n",
       "3  495.861716  20.7840  0.000480\n",
       "4  626.451008  26.3448  0.000323"
      ]
     },
     "execution_count": 21,
     "metadata": {},
     "output_type": "execute_result"
    }
   ],
   "source": [
    "points.head()"
   ]
  },
  {
   "cell_type": "code",
   "execution_count": 22,
   "id": "86eeef67",
   "metadata": {},
   "outputs": [
    {
     "name": "stdout",
     "output_type": "stream",
     "text": [
      "[13.946  16.816  17.751  20.784  26.3448 30.973  34.987  35.818  22.163\n",
      " 24.943   5.899   6.49    8.048   8.905 ]\n",
      "[13.97570735 16.9795697  17.80554369 20.83639343 26.34658519 30.90506778\n",
      " 35.01313167 35.87919705 22.13526846 24.97960249  5.91005504  6.51436894\n",
      "  8.06123006  8.9240108 ]\n"
     ]
    }
   ],
   "source": [
    "mus = points[\"mu\"].to_numpy()\n",
    "Es = points[\"E\"].to_numpy()\n",
    "sigmas = points[\"sigma\"].to_numpy()\n",
    "\n",
    "m = fit[\"m\"].to_numpy()[0]\n",
    "b = fit[\"b\"].to_numpy()[0]\n",
    "\n",
    "E_est = mus*m + b\n",
    "\n",
    "print(Es)\n",
    "print(E_est)"
   ]
  },
  {
   "cell_type": "code",
   "execution_count": 24,
   "id": "2462eddd",
   "metadata": {},
   "outputs": [
    {
     "name": "stdout",
     "output_type": "stream",
     "text": [
      "Chi-sq: 6.8464e+05\n",
      "Reduced chi-sq: 57053\n"
     ]
    }
   ],
   "source": [
    "Chi_sq = np.sum(((Es-E_est)/sigmas)**2)\n",
    "Red_chi_sq = Chi_sq/(len(mus)-2)\n",
    "\n",
    "print(f'Chi-sq: {Chi_sq:.5g}')\n",
    "print(f'Reduced chi-sq: {Red_chi_sq:.5g}')"
   ]
  },
  {
   "cell_type": "code",
   "execution_count": null,
   "id": "5d04d75f",
   "metadata": {},
   "outputs": [],
   "source": []
  }
 ],
 "metadata": {
  "kernelspec": {
   "display_name": "Python 3 (ipykernel)",
   "language": "python",
   "name": "python3"
  },
  "language_info": {
   "codemirror_mode": {
    "name": "ipython",
    "version": 3
   },
   "file_extension": ".py",
   "mimetype": "text/x-python",
   "name": "python",
   "nbconvert_exporter": "python",
   "pygments_lexer": "ipython3",
   "version": "3.7.13"
  }
 },
 "nbformat": 4,
 "nbformat_minor": 5
}
